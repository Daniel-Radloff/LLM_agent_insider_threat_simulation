{
 "cells": [
  {
   "cell_type": "markdown",
   "metadata": {},
   "source": [
    "# Converting the maze files into a more sensible format\n",
    "1. Read the originals\n",
    "2. Create a new format with newlines\n",
    "3. Impliment new algorithm\n",
    "4. Validate that the result is equivalent to the original algorithm\n",
    "5. Write files over to new format"
   ]
  },
  {
   "cell_type": "code",
   "execution_count": 75,
   "metadata": {},
   "outputs": [],
   "source": [
    "import pandas as pd\n",
    "\n",
    "maze_width = 140\n",
    "def format(location:str)->list:\n",
    "  original = pd.read_csv(location, header=None).values.tolist()[0]\n",
    "  if len(original) != 14000:\n",
    "    raise Exception(\"The file has already been converted\")\n",
    "  to_return = []\n",
    "  for i in range(0,len(original),maze_width):\n",
    "    to_return.append(original[i:i+maze_width])\n",
    "  return to_return\n",
    "\n",
    "collision_maze_original = format(\"original_collision_maze.csv\")"
   ]
  },
  {
   "cell_type": "code",
   "execution_count": 76,
   "metadata": {},
   "outputs": [],
   "source": [
    "def write_new_format(location:str, maze:list):\n",
    "  with open(location,\"w\") as file:\n",
    "    string_conversion = []\n",
    "    for row in maze:\n",
    "      string_conversion.append(\",\".join([str(id) for id in row]) + \"\\n\")\n",
    "    file.writelines(string_conversion)\n",
    "\n",
    "write_new_format(\"test.csv\",collision_maze_original)"
   ]
  },
  {
   "cell_type": "code",
   "execution_count": 77,
   "metadata": {},
   "outputs": [
    {
     "name": "stdout",
     "output_type": "stream",
     "text": [
      "no values were changed\n"
     ]
    }
   ],
   "source": [
    "def validate():\n",
    "    test = pd.read_csv(\"test.csv\", header=None).values.tolist()\n",
    "    for count, row in enumerate(test):\n",
    "        if row != collision_maze_original[count]:\n",
    "            raise ValueError(\"something changed\")\n",
    "    print(\"no values were changed\")\n",
    "validate()"
   ]
  },
  {
   "cell_type": "markdown",
   "metadata": {},
   "source": [
    "# Convert all the files"
   ]
  },
  {
   "cell_type": "code",
   "execution_count": 78,
   "metadata": {},
   "outputs": [],
   "source": [
    "collision_maze = format(\"./maze/collision_maze.csv\")\n",
    "sector_maze = format(\"./maze/sector_maze.csv\")\n",
    "arena_maze = format(\"./maze/arena_maze.csv\")\n",
    "game_object_maze = format(\"./maze/game_object_maze.csv\")\n",
    "spawning_location_maze = format(\"./maze/spawning_location_maze.csv\")"
   ]
  },
  {
   "cell_type": "code",
   "execution_count": null,
   "metadata": {},
   "outputs": [],
   "source": [
    "write_new_format(\"./maze/collision_maze.csv\",collision_maze)\n",
    "write_new_format(\"./maze/sector_maze.csv\",sector_maze)\n",
    "write_new_format(\"./maze/arena_maze.csv\",arena_maze)\n",
    "write_new_format(\"./maze/game_object_maze.csv\",game_object_maze)\n",
    "write_new_format(\"./maze/spawning_location_maze.csv\",spawning_location_maze)"
   ]
  }
 ],
 "metadata": {
  "kernelspec": {
   "display_name": "Python 3",
   "language": "python",
   "name": "python3"
  },
  "language_info": {
   "codemirror_mode": {
    "name": "ipython",
    "version": 3
   },
   "file_extension": ".py",
   "mimetype": "text/x-python",
   "name": "python",
   "nbconvert_exporter": "python",
   "pygments_lexer": "ipython3",
   "version": "3.12.4"
  }
 },
 "nbformat": 4,
 "nbformat_minor": 2
}
